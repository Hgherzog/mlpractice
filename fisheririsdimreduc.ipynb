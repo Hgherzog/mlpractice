{
  "nbformat": 4,
  "nbformat_minor": 0,
  "metadata": {
    "colab": {
      "provenance": [],
      "authorship_tag": "ABX9TyOR6S+F2Dnfqbidbs61KCWs",
      "include_colab_link": true
    },
    "kernelspec": {
      "name": "python3",
      "display_name": "Python 3"
    },
    "language_info": {
      "name": "python"
    }
  },
  "cells": [
    {
      "cell_type": "markdown",
      "metadata": {
        "id": "view-in-github",
        "colab_type": "text"
      },
      "source": [
        "<a href=\"https://colab.research.google.com/github/Hgherzog/mlpractice/blob/main/fisheririsdimreduc.ipynb\" target=\"_parent\"><img src=\"https://colab.research.google.com/assets/colab-badge.svg\" alt=\"Open In Colab\"/></a>"
      ]
    },
    {
      "cell_type": "code",
      "execution_count": null,
      "metadata": {
        "colab": {
          "base_uri": "https://localhost:8080/"
        },
        "id": "J7ZIXUYMC73A",
        "outputId": "05ff9d9c-36e1-49ee-a293-d22dae0e3be8"
      },
      "outputs": [
        {
          "output_type": "stream",
          "name": "stdout",
          "text": [
            "[[ 0.62017367  0.77216958 -0.13834289]\n",
            " [ 0.24806947 -0.02573899  0.96840025]\n",
            " [ 0.74420841 -0.63489499 -0.20751434]]\n",
            "[[ 0.48507125  0.86075337]\n",
            " [ 0.72760688 -0.29939248]\n",
            " [ 0.48507125 -0.41166465]]\n",
            "[[ 0.48507125  0.86075337]\n",
            " [ 0.72760688 -0.29939248]\n",
            " [ 0.48507125 -0.41166465]]\n"
          ]
        }
      ],
      "source": [
        "from numpy.lib.shape_base import column_stack\n",
        "from numpy.core.fromnumeric import shape\n",
        "import numpy as np\n",
        "#Graham Schmidt orthoganilization (transform an n by p matrix)\n",
        "# into an orthonormal n by p matrix working on columns\n",
        "# Assume all 1-d matrices are passed in as columns  \n",
        "def gs(M):\n",
        "  if not np.any(M):\n",
        "    return\n",
        "  width = np.shape(M)[1]\n",
        "  d=0\n",
        "  if width == 1:\n",
        "    return M\n",
        "  #Check if first column is zero and update M accordingly\n",
        "  for i in range (width):\n",
        "    if not np.any(M[:,i]):\n",
        "      np.delete(M,i, axis=1)\n",
        "  width = np.shape(M)[1]\n",
        "  for i in range(width):\n",
        "      #Base case first\n",
        "    if i == 0:\n",
        "        X=M[:,i] / np.linalg.norm(M[:,i])\n",
        "    else:\n",
        "      if X.ndim == 1 and np.any(X):\n",
        "        #check if the vector isnt 0\n",
        "        d=d + (X@M[:,i].T)*X / (X@X)\n",
        "      else: \n",
        "        if X.ndim ==1:\n",
        "          widthX=1\n",
        "        else:\n",
        "          widthX=np.shape(X)[1]\n",
        "        for j in range(widthX):\n",
        "            #check if the vector isn't zero\n",
        "            if np.any(X[:, j]):\n",
        "              d=d + (X[:,j]@M[:,i])*X[:,j] * (1/  (X[:, j]@X[:, j]))\n",
        "      u_next= M[:,i] - d\n",
        "      d=0\n",
        "      if np.any(u_next):\n",
        "        u_next = u_next / np.linalg.norm(u_next)\n",
        "        if X.ndim == 1:\n",
        "          X=column_stack((X,u_next))\n",
        "        else:\n",
        "          X=np.append(X,np.atleast_2d(u_next).T, axis = 1)\n",
        "  return X\n",
        "\n",
        "\n",
        "        \n",
        "  \n",
        "\n",
        "test1=np.array([[5,4,3],[2, 1, 1], [6,2,1]])\n",
        "test2= np.array([[2,4, 7],[3,6,-2],[2,4,-3]])\n",
        "test3=np.array([[2, 7],[3,-2],[2,-3]])\n",
        "print(gs(test1))\n",
        "print(gs(test2))\n",
        "print(gs(test3))"
      ]
    },
    {
      "cell_type": "code",
      "source": [
        "import numpy as np\n",
        "import matplotlib as mpl\n",
        "import matplotlib.pyplot as plt\n",
        "from IPython.lib.display import IFrame\n",
        "import scipy.io as sio\n",
        "data_file=sio.loadmat('fisheriris.mat')\n",
        "X = data_file['meas']\n",
        "y = data_file['species']\n",
        "\n",
        "#string to number function\n",
        "def l_num(s):\n",
        "  if s == 'setosa':\n",
        "    return 1\n",
        "  elif s == 'versicolor':\n",
        "    return 2\n",
        "  elif s == 'virginica':\n",
        "    return 3\n",
        "\n",
        "\n",
        "vfunc=np.vectorize(l_num)\n",
        "\n",
        "yp=vfunc(y)\n",
        "\n",
        "def classify(x):\n",
        "  if x < 1.5:\n",
        "    return 1\n",
        "  elif x >= 1.5 and x <2.5:\n",
        "    return 2\n",
        "  else:\n",
        "    return 3\n",
        "err_perc=0\n",
        "#6b) train a classifier on different subsets of data with the 10 randomly chosen points\n",
        "# removed from each set then see how many correct guys out of 30 to get error perc then we will test it\n",
        "for i in range(1000):\n",
        "  q=10\n",
        "  #first ranomly remove 10 and form the training and the test data\n",
        "  r_nums=np.random.choice(50, q, replace=False)\n",
        "  r_nums1=np.random.choice(50, q, replace=False) + 50\n",
        "  r_nums2=np.random.choice(50, q, replace=False) + 100\n",
        "  test_rows=np.sort(np.concatenate((r_nums,r_nums1,r_nums2)))\n",
        "  #print(test_rows)\n",
        "  t=len(test_rows)\n",
        "  X_Train=np.delete(X, test_rows, axis=0)\n",
        "  y_train=np.delete(yp,test_rows)\n",
        "  X_Test=[X[test_rows[m]] for m in range(t)]\n",
        "  y_test=[yp[test_rows[n]] for n in range(t)]\n",
        "  #do least squares to find the weights\n",
        "  w = np.linalg.inv(X_Train.T@X_Train) @X_Train.T@y_train\n",
        "  #test the accuracy of the prediction\n",
        "  count=0\n",
        "  for a in range(t):\n",
        "    if classify(X_Test[a]@w) != y_test[a]:\n",
        "      count=count+1\n",
        "  err_perc = (count/ (3*q)) + err_perc\n",
        "  count = 0\n",
        "err_mean=err_perc / 1000\n",
        "print(err_mean)\n",
        "\n"
      ],
      "metadata": {
        "colab": {
          "base_uri": "https://localhost:8080/"
        },
        "id": "aRzcCWpZqJfH",
        "outputId": "051b7f6c-a3d5-48e3-b609-124083dcad9f"
      },
      "execution_count": null,
      "outputs": [
        {
          "output_type": "stream",
          "name": "stdout",
          "text": [
            "0.04073333333333366\n"
          ]
        }
      ]
    },
    {
      "cell_type": "code",
      "source": [
        "#6c Smaller TRaining set experimentation\n",
        "import numpy as np\n",
        "import matplotlib as mpl\n",
        "import matplotlib.pyplot as plt\n",
        "from IPython.lib.display import IFrame\n",
        "import scipy.io as sio\n",
        "data_file=sio.loadmat('fisheriris.mat')\n",
        "X = data_file['meas']\n",
        "y = data_file['species']\n",
        "\n",
        "#fucntion calculates the average error for a training sample of size p\n",
        "def p_training(p):\n",
        "  err_mean=0\n",
        "  err_perc=0\n",
        "  err_total=0\n",
        "  q=50-p\n",
        "  for i in range(100):\n",
        "  #first randomly remove q and form the training and the test data\n",
        "    r_nums=np.random.choice(50, q, replace=False)\n",
        "    r_nums1=np.random.choice(50, q, replace=False) + 50\n",
        "    r_nums2=np.random.choice(50, q, replace=False) + 100\n",
        "    test_rows=np.sort(np.concatenate((r_nums,r_nums1,r_nums2)))\n",
        "    t1=len(test_rows)\n",
        "    X_Train=np.delete(X, test_rows, axis=0)\n",
        "    y_train=np.delete(yp,test_rows)\n",
        "    X_Test=[X[test_rows[m]] for m in range(t1)]\n",
        "    y_test=[yp[test_rows[n]] for n in range(t1)]\n",
        "    #do least squares to find the weights\n",
        "    w = np.linalg.inv(X_Train.T@X_Train) @X_Train.T@y_train\n",
        "    #test the accuracy of the prediction\n",
        "    count=0\n",
        "    for a in range(t1):\n",
        "      if classify(X_Test[a]@w) != y_test[a]:\n",
        "        count=count+1\n",
        "    err_perc = (count/ (q*3)) \n",
        "    err_total=err_total + err_perc\n",
        "    count = 0\n",
        "  err_mean=err_total / 100\n",
        "  return err_mean\n",
        "\n",
        "#Graph training size vs average error\n",
        "\n",
        "out_v=np.vectorize(p_training)\n",
        "x_d =np.arange(2,48)\n",
        "#print(x_d)\n",
        "y_out=out_v(x_d)\n",
        "plt.plot(x_d,y_out)\n",
        "\n",
        "\n",
        "\n",
        "\n"
      ],
      "metadata": {
        "colab": {
          "base_uri": "https://localhost:8080/",
          "height": 282
        },
        "id": "0FmBX-LyN8GU",
        "outputId": "d354e719-3250-43bc-f3c1-2c5d1dff219b"
      },
      "execution_count": null,
      "outputs": [
        {
          "output_type": "execute_result",
          "data": {
            "text/plain": [
              "[<matplotlib.lines.Line2D at 0x7f841e9c8c90>]"
            ]
          },
          "metadata": {},
          "execution_count": 136
        },
        {
          "output_type": "display_data",
          "data": {
            "text/plain": [
              "<Figure size 432x288 with 1 Axes>"
            ],
            "image/png": "[encoded data removed]"
          },
          "metadata": {
            "needs_background": "light"
          }
        }
      ]
    },
    {
      "cell_type": "code",
      "source": [
        "#6d) Now design a classifier with only first 3 elements\n",
        "err_mean=0\n",
        "for i in range(100):\n",
        "  #first ranomly remove 10 and form the training and the test data\n",
        "  r_nums=np.random.choice(50, 10, replace=False)\n",
        "  r_nums1=[r_nums[j] + 50 for j in range(10)]\n",
        "  r_nums2=[r_nums1[k] + 50 for k in range(10)]\n",
        "  test_rows=np.sort(np.concatenate((r_nums,r_nums1,r_nums2)))\n",
        "  t=len(test_rows)\n",
        "  X_Train1=np.delete(X, test_rows, axis=0)\n",
        "  X_Train=np.delete(X_Train1,3, axis=1)\n",
        "  y_train=np.delete(yp,test_rows)\n",
        "  X_Test1=[X[test_rows[m], :] for m in range(t)]\n",
        "  X_Test=np.delete(X_Test1,3, axis=1)\n",
        "  y_test=[yp[test_rows[n]] for n in range(t)]\n",
        "  #do least squares to find the weights\n",
        "  w = np.linalg.inv(X_Train.T@X_Train) @X_Train.T@y_train\n",
        "  #test the accuracy of the prediction\n",
        "  count=0\n",
        "  for a in range(t):\n",
        "    if classify(X_Test[a]@w) != y_test[a]:\n",
        "      count=count+1\n",
        "  err_perc = (count/ 30) +err_perc\n",
        "  count = 0\n",
        "err_mean =err_perc / 100\n",
        "print(err_mean)\n",
        "err_perc=0\n",
        "err_mean=0\n",
        "\n"
      ],
      "metadata": {
        "colab": {
          "base_uri": "https://localhost:8080/",
          "height": 232
        },
        "id": "l-2T2zlzKmX1",
        "outputId": "142f61f7-a533-4f29-8cf6-bbf878c0b433"
      },
      "execution_count": null,
      "outputs": [
        {
          "output_type": "error",
          "ename": "NameError",
          "evalue": "ignored",
          "traceback": [
            "\u001b[0;31m---------------------------------------------------------------------------\u001b[0m",
            "\u001b[0;31mNameError\u001b[0m                                 Traceback (most recent call last)",
            "\u001b[0;32m<ipython-input-1-b4a63dbc3889>\u001b[0m in \u001b[0;36m<module>\u001b[0;34m()\u001b[0m\n\u001b[1;32m      3\u001b[0m \u001b[0;32mfor\u001b[0m \u001b[0mi\u001b[0m \u001b[0;32min\u001b[0m \u001b[0mrange\u001b[0m\u001b[0;34m(\u001b[0m\u001b[0;36m100\u001b[0m\u001b[0;34m)\u001b[0m\u001b[0;34m:\u001b[0m\u001b[0;34m\u001b[0m\u001b[0;34m\u001b[0m\u001b[0m\n\u001b[1;32m      4\u001b[0m   \u001b[0;31m#first ranomly remove 10 and form the training and the test data\u001b[0m\u001b[0;34m\u001b[0m\u001b[0;34m\u001b[0m\u001b[0;34m\u001b[0m\u001b[0m\n\u001b[0;32m----> 5\u001b[0;31m   \u001b[0mr_nums\u001b[0m\u001b[0;34m=\u001b[0m\u001b[0mnp\u001b[0m\u001b[0;34m.\u001b[0m\u001b[0mrandom\u001b[0m\u001b[0;34m.\u001b[0m\u001b[0mchoice\u001b[0m\u001b[0;34m(\u001b[0m\u001b[0;36m50\u001b[0m\u001b[0;34m,\u001b[0m \u001b[0;36m10\u001b[0m\u001b[0;34m,\u001b[0m \u001b[0mreplace\u001b[0m\u001b[0;34m=\u001b[0m\u001b[0;32mFalse\u001b[0m\u001b[0;34m)\u001b[0m\u001b[0;34m\u001b[0m\u001b[0;34m\u001b[0m\u001b[0m\n\u001b[0m\u001b[1;32m      6\u001b[0m   \u001b[0mr_nums1\u001b[0m\u001b[0;34m=\u001b[0m\u001b[0;34m[\u001b[0m\u001b[0mr_nums\u001b[0m\u001b[0;34m[\u001b[0m\u001b[0mj\u001b[0m\u001b[0;34m]\u001b[0m \u001b[0;34m+\u001b[0m \u001b[0;36m50\u001b[0m \u001b[0;32mfor\u001b[0m \u001b[0mj\u001b[0m \u001b[0;32min\u001b[0m \u001b[0mrange\u001b[0m\u001b[0;34m(\u001b[0m\u001b[0;36m10\u001b[0m\u001b[0;34m)\u001b[0m\u001b[0;34m]\u001b[0m\u001b[0;34m\u001b[0m\u001b[0;34m\u001b[0m\u001b[0m\n\u001b[1;32m      7\u001b[0m   \u001b[0mr_nums2\u001b[0m\u001b[0;34m=\u001b[0m\u001b[0;34m[\u001b[0m\u001b[0mr_nums1\u001b[0m\u001b[0;34m[\u001b[0m\u001b[0mk\u001b[0m\u001b[0;34m]\u001b[0m \u001b[0;34m+\u001b[0m \u001b[0;36m50\u001b[0m \u001b[0;32mfor\u001b[0m \u001b[0mk\u001b[0m \u001b[0;32min\u001b[0m \u001b[0mrange\u001b[0m\u001b[0;34m(\u001b[0m\u001b[0;36m10\u001b[0m\u001b[0;34m)\u001b[0m\u001b[0;34m]\u001b[0m\u001b[0;34m\u001b[0m\u001b[0;34m\u001b[0m\u001b[0m\n",
            "\u001b[0;31mNameError\u001b[0m: name 'np' is not defined"
          ]
        }
      ]
    }
  ]
}